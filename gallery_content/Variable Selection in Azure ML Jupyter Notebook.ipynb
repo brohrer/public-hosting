{
 "cells": [
  {
   "cell_type": "markdown",
   "metadata": {
    "collapsed": true
   },
   "source": [
    "# Variable Selection in Azure ML Jupyter Notebook\n",
    "Lixun Zhang  \n",
    "Nov 10, 2015\n",
    "\n",
    "## 1 Introduction\n",
    "Before starting this example, it is assumed that you are familiar with Azure Machine Learning (Azure ML) experiments and the process for publishing Azure web service from Python. If not, you can refer to [Tutorial for Using Azure Machine Learning Notebook][tutorial link]. \n",
    "\n",
    "The purpose of this example is to demonstrate how to use a feature selection technique not available for Azure ML experiments. This process can be completed with Azure ML Jupyter notebook, a cloud-based service that's part of Azure ML environment.\n",
    "\n",
    "As [Figure 1][pic 1] shows, there are three Feature Selection options for an Azure ML experiment:\n",
    " 1. Filter Based Feature Selection\n",
    " 2. Fisher Linear Discriminant Analysis\n",
    " 3. Permutation Feature Importance\n",
    "\n",
    "Among these, Fisher Linear Discriminant Analysis is actually a dimension reduction technique for cases where the response variable is categorical. Filter Based Feature Selection uses univariate analysis to select features (using metrics such as Pearson Correlation, Chi Squared, etc). Permutation Feature Importance ranks variables by calculating the difference in model performance metrics before and after random permutations of feature values. As the paper [Dimension Reduction vs. Variable Selection][paper link] describes, there are a wide variety of feature selection and dimension reduction techniques. In what follows we'll illustrate how to use recursive feature elimination within an Azure ML Jupyter notebook. \n",
    "\n",
    "[![Figure 1][pic 1]][pic 1] Figure 1\n",
    "\n",
    "[tutorial link]: link\n",
    "[paper link]: http://rd.springer.com/chapter/10.1007%2F11558958_113\n",
    "[pic 1]: https://cloud.githubusercontent.com/assets/9322661/10466244/4e5ae462-71c1-11e5-8c01-a96769336daf.PNG"
   ]
  },
  {
   "cell_type": "markdown",
   "metadata": {
    "collapsed": true
   },
   "source": [
    "## 2 Read data\n",
    "Following the same step as in [Tutorial for Using Azure Machine Learning Notebook][tutorial link], we first create an Azure ML experiment to read the Boston housing data and then use the following code to bring the data from the experiment into the current Python session.\n",
    "\n",
    "[tutorial link]: link"
   ]
  },
  {
   "cell_type": "code",
   "execution_count": 1,
   "metadata": {
    "collapsed": false
   },
   "outputs": [
    {
     "data": {
      "text/html": [
       "<div>\n",
       "<table border=\"1\" class=\"dataframe\">\n",
       "  <thead>\n",
       "    <tr style=\"text-align: right;\">\n",
       "      <th></th>\n",
       "      <th>crim</th>\n",
       "      <th>zn</th>\n",
       "      <th>indus</th>\n",
       "      <th>chas</th>\n",
       "      <th>nox</th>\n",
       "      <th>rm</th>\n",
       "      <th>age</th>\n",
       "      <th>dis</th>\n",
       "      <th>rad</th>\n",
       "      <th>tax</th>\n",
       "      <th>ptratio</th>\n",
       "      <th>black</th>\n",
       "      <th>lstat</th>\n",
       "      <th>medv</th>\n",
       "    </tr>\n",
       "  </thead>\n",
       "  <tbody>\n",
       "    <tr>\n",
       "      <th>0</th>\n",
       "      <td>0.00632</td>\n",
       "      <td>18</td>\n",
       "      <td>2.31</td>\n",
       "      <td>0</td>\n",
       "      <td>0.538</td>\n",
       "      <td>6.575</td>\n",
       "      <td>65.2</td>\n",
       "      <td>4.0900</td>\n",
       "      <td>1</td>\n",
       "      <td>296</td>\n",
       "      <td>15.3</td>\n",
       "      <td>396.90</td>\n",
       "      <td>4.98</td>\n",
       "      <td>24.0</td>\n",
       "    </tr>\n",
       "    <tr>\n",
       "      <th>1</th>\n",
       "      <td>0.02731</td>\n",
       "      <td>0</td>\n",
       "      <td>7.07</td>\n",
       "      <td>0</td>\n",
       "      <td>0.469</td>\n",
       "      <td>6.421</td>\n",
       "      <td>78.9</td>\n",
       "      <td>4.9671</td>\n",
       "      <td>2</td>\n",
       "      <td>242</td>\n",
       "      <td>17.8</td>\n",
       "      <td>396.90</td>\n",
       "      <td>9.14</td>\n",
       "      <td>21.6</td>\n",
       "    </tr>\n",
       "    <tr>\n",
       "      <th>2</th>\n",
       "      <td>0.02729</td>\n",
       "      <td>0</td>\n",
       "      <td>7.07</td>\n",
       "      <td>0</td>\n",
       "      <td>0.469</td>\n",
       "      <td>7.185</td>\n",
       "      <td>61.1</td>\n",
       "      <td>4.9671</td>\n",
       "      <td>2</td>\n",
       "      <td>242</td>\n",
       "      <td>17.8</td>\n",
       "      <td>392.83</td>\n",
       "      <td>4.03</td>\n",
       "      <td>34.7</td>\n",
       "    </tr>\n",
       "    <tr>\n",
       "      <th>3</th>\n",
       "      <td>0.03237</td>\n",
       "      <td>0</td>\n",
       "      <td>2.18</td>\n",
       "      <td>0</td>\n",
       "      <td>0.458</td>\n",
       "      <td>6.998</td>\n",
       "      <td>45.8</td>\n",
       "      <td>6.0622</td>\n",
       "      <td>3</td>\n",
       "      <td>222</td>\n",
       "      <td>18.7</td>\n",
       "      <td>394.63</td>\n",
       "      <td>2.94</td>\n",
       "      <td>33.4</td>\n",
       "    </tr>\n",
       "    <tr>\n",
       "      <th>4</th>\n",
       "      <td>0.06905</td>\n",
       "      <td>0</td>\n",
       "      <td>2.18</td>\n",
       "      <td>0</td>\n",
       "      <td>0.458</td>\n",
       "      <td>7.147</td>\n",
       "      <td>54.2</td>\n",
       "      <td>6.0622</td>\n",
       "      <td>3</td>\n",
       "      <td>222</td>\n",
       "      <td>18.7</td>\n",
       "      <td>396.90</td>\n",
       "      <td>5.33</td>\n",
       "      <td>36.2</td>\n",
       "    </tr>\n",
       "  </tbody>\n",
       "</table>\n",
       "</div>"
      ],
      "text/plain": [
       "      crim  zn  indus  chas    nox     rm   age     dis  rad  tax  ptratio  \\\n",
       "0  0.00632  18   2.31     0  0.538  6.575  65.2  4.0900    1  296     15.3   \n",
       "1  0.02731   0   7.07     0  0.469  6.421  78.9  4.9671    2  242     17.8   \n",
       "2  0.02729   0   7.07     0  0.469  7.185  61.1  4.9671    2  242     17.8   \n",
       "3  0.03237   0   2.18     0  0.458  6.998  45.8  6.0622    3  222     18.7   \n",
       "4  0.06905   0   2.18     0  0.458  7.147  54.2  6.0622    3  222     18.7   \n",
       "\n",
       "    black  lstat  medv  \n",
       "0  396.90   4.98  24.0  \n",
       "1  396.90   9.14  21.6  \n",
       "2  392.83   4.03  34.7  \n",
       "3  394.63   2.94  33.4  \n",
       "4  396.90   5.33  36.2  "
      ]
     },
     "execution_count": 1,
     "metadata": {},
     "output_type": "execute_result"
    }
   ],
   "source": [
    "from azureml import Workspace\n",
    "ws = Workspace(\n",
    " workspace_id='b2bbeb56a1d04e1599d2510a06c59d87',\n",
    " authorization_token='a3978d933cd84e64ab583a616366d160',\n",
    " endpoint='https://studioapi.azureml.net'\n",
    ")\n",
    "experiment = ws.experiments['b2bbeb56a1d04e1599d2510a06c59d87.f-id.911630d13cbe4407b9fe408b5bb6ddef']\n",
    "ds = experiment.get_intermediate_dataset(\n",
    " node_id='a0a931cf-9fb3-4cb9-83db-f48211be560c-323',\n",
    " port_name='Results dataset',\n",
    " data_type_id='GenericCSV'\n",
    ")\n",
    "frame = ds.to_dataframe()\n",
    "\n",
    "mydata = frame\n",
    "mydata.head()"
   ]
  },
  {
   "cell_type": "markdown",
   "metadata": {},
   "source": [
    "## 3 Recursive Feature Elimination\n",
    "The sklearn package has several feature selection methods and details can be found at the [documentation][feature link] site. In this example we'll be using the recursive feature elimination method. This process starts with all variables and assign weights to them. Those with small weights are first removed. The remaining variables are used to refit the model and the process repeats. \n",
    "\n",
    "We start by importing the packages that'll be used. \n",
    "\n",
    "[feature link]: http://scikit-learn.org/stable/modules/feature_selection.html"
   ]
  },
  {
   "cell_type": "code",
   "execution_count": 2,
   "metadata": {
    "collapsed": true
   },
   "outputs": [],
   "source": [
    "%matplotlib inline\n",
    "import matplotlib.pyplot as plt\n",
    "import pandas as pd\n",
    "import numpy as np\n",
    "from sklearn.linear_model import LinearRegression\n",
    "from sklearn import preprocessing\n",
    "from sklearn.feature_selection import RFECV"
   ]
  },
  {
   "cell_type": "markdown",
   "metadata": {},
   "source": [
    "The following lines of code first scale the features then identify the selected features with recursive feature elimination."
   ]
  },
  {
   "cell_type": "code",
   "execution_count": 3,
   "metadata": {
    "collapsed": false
   },
   "outputs": [
    {
     "name": "stdout",
     "output_type": "stream",
     "text": [
      "Optimal number of features : 6\n",
      "Features selected: ['crim', 'nox', 'rm', 'dis', 'ptratio', 'lstat']\n"
     ]
    },
    {
     "data": {
      "image/png": "[encoded data removed]",
      "text/plain": [
       "<matplotlib.figure.Figure at 0x9aff2b0>"
      ]
     },
     "metadata": {},
     "output_type": "display_data"
    }
   ],
   "source": [
    "# create X and y\n",
    "feature_cols = ['crim', 'zn', 'indus', 'chas', 'nox', 'rm', 'age', 'dis', 'rad', 'tax', 'ptratio', 'black', 'lstat']\n",
    "X = mydata[feature_cols]\n",
    "y = mydata.medv\n",
    "\n",
    "# initiate the linear model\n",
    "lm = LinearRegression()\n",
    "\n",
    "# scale the features\n",
    "min_max_scaler = preprocessing.MinMaxScaler()\n",
    "x_scaled_minmax = min_max_scaler.fit_transform(X)\n",
    "x_scaled_minmax_df = pd.DataFrame(x_scaled_minmax, columns = feature_cols)\n",
    "\n",
    "# recursive feature elimination with cross validation, using r-squared as metric\n",
    "rfecv = RFECV(estimator=lm, step=1, cv=5, scoring='r2')\n",
    "rfecv.fit(x_scaled_minmax_df, y)\n",
    "\n",
    "# print the optimal number of feature\n",
    "print(\"Optimal number of features : %d\" % rfecv.n_features_)\n",
    "\n",
    "# save the selected features\n",
    "feature_cols_selected = list(np.array(feature_cols)[rfecv.support_])\n",
    "print(\"Features selected: \" + str(feature_cols_selected))\n",
    "\n",
    "# plot number of features VS. cross-validation scores\n",
    "plt.figure()\n",
    "plt.xlabel(\"Number of features selected\")\n",
    "plt.ylabel(\"R-squared\")\n",
    "plt.plot(range(1, len(rfecv.grid_scores_) + 1), rfecv.grid_scores_)\n",
    "plt.show()"
   ]
  },
  {
   "cell_type": "markdown",
   "metadata": {},
   "source": [
    "Once the features to include are selected, we can use them to fit the model. While the scaled features were used in the RFE step above, we'll use the original values for fitting the model. This way we don't have to tranform the data when making predictions."
   ]
  },
  {
   "cell_type": "code",
   "execution_count": 4,
   "metadata": {
    "collapsed": false
   },
   "outputs": [
    {
     "name": "stdout",
     "output_type": "stream",
     "text": [
      "The R-squared value is: 0.7114 \n",
      "\n",
      "    Features       Coef\n",
      "0  intercept  35.545530\n",
      "1       crim  -0.072024\n",
      "2        nox -17.006654\n",
      "3         rm   4.251961\n",
      "4        dis  -1.203345\n",
      "5    ptratio  -1.000803\n",
      "6      lstat  -0.553532\n"
     ]
    }
   ],
   "source": [
    "#%% fit model with selected features\n",
    "X_new = mydata[feature_cols_selected]\n",
    "lm2 = LinearRegression()\n",
    "lm2.fit(X_new, y)\n",
    "\n",
    "# print the R-squared\n",
    "print(\"The R-squared value is: {0:0.4f} \\n\".format(lm2.score(X_new, y)))\n",
    "# save intercept and coefficients\n",
    "param_df = pd.DataFrame({\"Features\": ['intercept'] + feature_cols_selected, \"Coef\": [lm2.intercept_] + list(lm2.coef_)})\n",
    "cols = param_df.columns.tolist()\n",
    "cols = cols[-1:]+cols[:-1]\n",
    "param_df = param_df[cols]\n",
    "print(param_df)"
   ]
  },
  {
   "cell_type": "markdown",
   "metadata": {},
   "source": [
    "Next we'll use the model to make predictions. Typically, predictions are done on a validation dataset. Here, however, the training dataset is used for illustraton purposes."
   ]
  },
  {
   "cell_type": "code",
   "execution_count": 5,
   "metadata": {
    "collapsed": false
   },
   "outputs": [
    {
     "name": "stdout",
     "output_type": "stream",
     "text": [
      "Mean Absolute Error: 3.466150\n",
      "Root Mean Squared Error: 4.935936\n",
      "Relative Absolute Error: 0.521445\n",
      "Relative Squared Error: 0.288600\n"
     ]
    }
   ],
   "source": [
    "# assign test data\n",
    "newX = X_new\n",
    "newY = y\n",
    "\n",
    "# join predictions with original data\n",
    "predicted = lm2.predict(newX)\n",
    "predicted_df = pd.DataFrame({\"predicted\": predicted})\n",
    "mydata_with_pd = newX.join(newY).join(predicted_df)\n",
    "mydata_with_pd.head()\n",
    "\n",
    "# check performance metrics\n",
    "import numpy as np\n",
    "obs = mydata_with_pd.medv\n",
    "pred = mydata_with_pd.predicted\n",
    "\n",
    "mae = np.mean(abs(pred-obs))\n",
    "rmse = np.sqrt(np.mean((pred-obs)**2))\n",
    "rae = np.mean(abs(pred-obs))/np.mean(abs(obs-np.mean(obs)))\n",
    "rse = np.mean((pred-obs)**2)/np.mean((obs-np.mean(obs))**2)\n",
    "\n",
    "print(\"Mean Absolute Error: {0:0.6f}\".format(mae))\n",
    "print(\"Root Mean Squared Error: {0:0.6f}\".format(rmse))\n",
    "print(\"Relative Absolute Error: {0:0.6f}\".format(rae))\n",
    "print(\"Relative Squared Error: {0:0.6f}\".format(rse))"
   ]
  },
  {
   "cell_type": "markdown",
   "metadata": {},
   "source": [
    "## 4 Web Service\n",
    "### 4.1 Set up a web service\n",
    "The following code sets up a web service and prints information about it. The [Tutorial for Using Azure Machine Learning Notebook][tutorial link] provides a more detailed coverage about this step.\n",
    "\n",
    "[tutorial link]: link"
   ]
  },
  {
   "cell_type": "code",
   "execution_count": 6,
   "metadata": {
    "collapsed": false
   },
   "outputs": [
    {
     "name": "stdout",
     "output_type": "stream",
     "text": [
      "url: https://ussouthcentral.services.azureml.net/workspaces/b2bbeb56a1d04e1599d2510a06c59d87/services/273512f800a345ce8d37df88feafe847/execute?api-version=2.0\n",
      "\n",
      "api_key: EhFzbaRrdmj3HSfPGs714s2OdeZdtJXjwFBu07fVgZ2mLAv1/qsh1t/zX8v6YUGgj4r8glAPq+f5xIxyCsbDoA==\n",
      "\n",
      "help_url: https://studio.azureml.net/apihelp/workspaces/b2bbeb56a1d04e1599d2510a06c59d87/webservices/e366acbd3fc148879db743e60806e2f9/endpoints/273512f800a345ce8d37df88feafe847/score\n",
      "\n",
      "service id: e366acbd3fc148879db743e60806e2f9\n",
      "\n"
     ]
    }
   ],
   "source": [
    "from azureml import services\n",
    "@services.publish('b2bbeb56a1d04e1599d2510a06c59d87', 'a3978d933cd84e64ab583a616366d160')\n",
    "@services.types(crim = float, nox=float, rm=float, dis=float, ptratio=float, lstat=float)\n",
    "@services.returns(float)\n",
    "def demoserviceupdate(crim, nox, rm, dis, ptratio, lstat):\n",
    "    feature_vector = [crim, nox, rm, dis, ptratio,  lstat]\n",
    "    return lm2.predict(feature_vector)\n",
    "\n",
    "# information about the web service\n",
    "print(\"url: \" + demoserviceupdate.service.url + \"\\n\")\n",
    "print(\"api_key: \" + demoserviceupdate.service.api_key + \"\\n\")\n",
    "print(\"help_url: \" + demoserviceupdate.service.help_url + \"\\n\")\n",
    "print(\"service id: \" + demoserviceupdate.service.service_id + \"\\n\")"
   ]
  },
  {
   "cell_type": "markdown",
   "metadata": {},
   "source": [
    "### 4.2 Consume a web service\n",
    "\n",
    "Following the same steps as described in [Tutorial for Using Azure Machine Learning Notebook][tutorial link], we can copy and paste the Python code for consuming the web service. Replace the default api_key with the value for your service and enter input values for two samples. Running the code will return the predictions for the samples you entered. \n",
    "\n",
    "[tutorial link]: link"
   ]
  },
  {
   "cell_type": "code",
   "execution_count": 7,
   "metadata": {
    "collapsed": false
   },
   "outputs": [
    {
     "name": "stdout",
     "output_type": "stream",
     "text": [
      "{\"Results\":{\"output1\":{\"type\":\"table\",\"value\":{\"ColumnNames\":[\"0\"],\"ColumnTypes\":[\"Double\"],\"Values\":[[\"31.3615775830933\"],[\"26.0185683269088\"]]}},\"output2\":{\"type\":\"table\",\"value\":{\"ColumnNames\":[\"Standard Output\",\"Standard Error\",\"Graphics\"],\"ColumnTypes\":[\"String\",\"String\",\"String\"],\"Values\":[[\"data:text/plain,\",\"data:text/plain,\",null]]}}}}\n"
     ]
    }
   ],
   "source": [
    "import urllib2\n",
    "# If you are using Python 3+, import urllib instead of urllib2\n",
    "\n",
    "import json \n",
    "\n",
    "\n",
    "data =  {\n",
    "\n",
    "        \"Inputs\": {\n",
    "\n",
    "                \"input1\":\n",
    "                {\n",
    "                    \"ColumnNames\": [\"crim\", \"lstat\", \"nox\", \"rm\", \"ptratio\", \"dis\"],\n",
    "                    \"Values\": [ [ \"0.00632\", \"4.98\", \"0.538\", \"6.575\", \"15.3\", \"4.0900\" ], \n",
    "                               [ \"0.02731\", \"9.14\", \"0.469\", \"6.421\", \"17.8\", \"4.9671\" ], ]\n",
    "                },        },\n",
    "            \"GlobalParameters\": {\n",
    "}\n",
    "    }\n",
    "\n",
    "body = str.encode(json.dumps(data))\n",
    "\n",
    "url = 'https://ussouthcentral.services.azureml.net/workspaces/b2bbeb56a1d04e1599d2510a06c59d87/\\\n",
    "services/8c035f34db59446c86e46f9bdfe0ad2a/execute?api-version=2.0&details=true'\n",
    "api_key = 'F36t+Klp90HQ0WTcvgHIcbHzyJ+/LbYNGesQ9GSugHb23AVSh/b6V03yiV89aqpbT4PnhyTcJYTnWNOOLTeQSQ==' \\\n",
    "# Replace this with the API key for the web service\n",
    "headers = {'Content-Type':'application/json', 'Authorization':('Bearer '+ api_key)}\n",
    "\n",
    "req = urllib2.Request(url, body, headers) \n",
    "\n",
    "try:\n",
    "    response = urllib2.urlopen(req)\n",
    "\n",
    "    # If you are using Python 3+, replace urllib2 with urllib.request in the above code:\n",
    "    # req = urllib.request.Request(url, body, headers) \n",
    "    # response = urllib.request.urlopen(req)\n",
    "\n",
    "    result = response.read()\n",
    "    print(result) \n",
    "except urllib2.HTTPError, error:\n",
    "    print(\"The request failed with status code: \" + str(error.code))\n",
    "\n",
    "    # Print the headers - they include the requert ID and the timestamp, which are useful for debugging the failure\n",
    "    print(error.info())\n",
    "\n",
    "    print(json.loads(error.read()))                 \n"
   ]
  },
  {
   "cell_type": "markdown",
   "metadata": {
    "collapsed": true
   },
   "source": [
    "## 5 Conclusion\n",
    "In this example we started by briefly reviewing the feature selection techniques available for Azure ML's experiments. Then we used the Boston housing dataset to illustrate how to use a technique that's not available for Azure ML's experiments: recursive feature selection. The sklearn package implements several other feature techniques and you can find more information from the [documentation][documentation link] site.\n",
    "\n",
    "---  \n",
    "Created by a Microsoft Employee.  \n",
    "Copyright © Microsoft. All Rights Reserved.\n",
    "[documentation link]: http://scikit-learn.org/stable/modules/classes.html#module-sklearn.feature_selection"
   ]
  }
 ],
 "metadata": {
  "kernelspec": {
   "display_name": "Python 2",
   "language": "python",
   "name": "python2"
  },
  "language_info": {
   "codemirror_mode": {
    "name": "ipython",
    "version": 2
   },
   "file_extension": ".py",
   "mimetype": "text/x-python",
   "name": "python",
   "nbconvert_exporter": "python",
   "pygments_lexer": "ipython2",
   "version": "2.7.10"
  }
 },
 "nbformat": 4,
 "nbformat_minor": 0
}
